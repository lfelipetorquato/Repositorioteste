{
 "cells": [
  {
   "cell_type": "code",
   "execution_count": 7,
   "id": "b8bf9680",
   "metadata": {},
   "outputs": [
    {
     "ename": "IndentationError",
     "evalue": "unexpected indent (2238129846.py, line 6)",
     "output_type": "error",
     "traceback": [
      "\u001b[1;36m  Input \u001b[1;32mIn [7]\u001b[1;36m\u001b[0m\n\u001b[1;33m    for colunas in leitor:\u001b[0m\n\u001b[1;37m    ^\u001b[0m\n\u001b[1;31mIndentationError\u001b[0m\u001b[1;31m:\u001b[0m unexpected indent\n"
     ]
    }
   ],
   "source": [
    "import csv\n",
    "\n",
    "with open('Business-employment-data-september-2022-quarter-csv.csv', mode='r') as arq:\n",
    "    leitor = csv.reader(arq, delimiter=',')\n",
    "        linhas\n",
    "        for colunas in leitor:\n",
    "            if linhas ==0\n",
    "            print(f'colunas: {\" \".join(coluna)}')\n",
    "            linhas +=1\n",
    "            else:\n",
    "                print(f'\\tElemento {coluna[0]} é o coluna{[1]}, de símbolo {coluna[2]}')\n",
    "                linhas +=1\n",
    "                print('lidas {linhas} linhas')\n",
    "    "
   ]
  }
 ],
 "metadata": {
  "kernelspec": {
   "display_name": "Python 3 (ipykernel)",
   "language": "python",
   "name": "python3"
  },
  "language_info": {
   "codemirror_mode": {
    "name": "ipython",
    "version": 3
   },
   "file_extension": ".py",
   "mimetype": "text/x-python",
   "name": "python",
   "nbconvert_exporter": "python",
   "pygments_lexer": "ipython3",
   "version": "3.9.12"
  }
 },
 "nbformat": 4,
 "nbformat_minor": 5
}
